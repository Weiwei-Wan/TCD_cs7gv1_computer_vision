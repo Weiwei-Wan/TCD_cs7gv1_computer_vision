{
 "cells": [
  {
   "cell_type": "markdown",
   "metadata": {
    "id": "-8fdXEa43cTo"
   },
   "source": [
    "In this tutorial we go over the first lab and make a very brief intro to filtering."
   ]
  },
  {
   "cell_type": "code",
   "execution_count": 2,
   "metadata": {
    "colab": {
     "base_uri": "https://localhost:8080/",
     "height": 444
    },
    "executionInfo": {
     "elapsed": 2105,
     "status": "ok",
     "timestamp": 1664352477145,
     "user": {
      "displayName": "Göksu Yamaç",
      "userId": "12418995879921261032"
     },
     "user_tz": -60
    },
    "id": "PmkV3v8q8pWz",
    "outputId": "968e2313-68e5-4f71-941e-5da010fd6242"
   },
   "outputs": [
    {
     "ename": "ModuleNotFoundError",
     "evalue": "No module named 'google.colab'",
     "output_type": "error",
     "traceback": [
      "\u001b[0;31m---------------------------------------------------------------------------\u001b[0m",
      "\u001b[0;31mModuleNotFoundError\u001b[0m                       Traceback (most recent call last)",
      "Cell \u001b[0;32mIn [2], line 2\u001b[0m\n\u001b[1;32m      1\u001b[0m \u001b[38;5;28;01mfrom\u001b[39;00m \u001b[38;5;21;01msklearn\u001b[39;00m\u001b[38;5;21;01m.\u001b[39;00m\u001b[38;5;21;01mdatasets\u001b[39;00m \u001b[38;5;28;01mimport\u001b[39;00m load_sample_image\n\u001b[0;32m----> 2\u001b[0m \u001b[38;5;28;01mfrom\u001b[39;00m \u001b[38;5;21;01mgoogle\u001b[39;00m\u001b[38;5;21;01m.\u001b[39;00m\u001b[38;5;21;01mcolab\u001b[39;00m\u001b[38;5;21;01m.\u001b[39;00m\u001b[38;5;21;01mpatches\u001b[39;00m \u001b[38;5;28;01mimport\u001b[39;00m cv2_imshow\n\u001b[1;32m      4\u001b[0m \u001b[38;5;28;01mimport\u001b[39;00m \u001b[38;5;21;01mnumpy\u001b[39;00m \u001b[38;5;28;01mas\u001b[39;00m \u001b[38;5;21;01mnp\u001b[39;00m\n\u001b[1;32m      5\u001b[0m \u001b[38;5;28;01mimport\u001b[39;00m \u001b[38;5;21;01mcv2\u001b[39;00m \u001b[38;5;28;01mas\u001b[39;00m \u001b[38;5;21;01mcv\u001b[39;00m\n",
      "\u001b[0;31mModuleNotFoundError\u001b[0m: No module named 'google.colab'"
     ]
    }
   ],
   "source": [
    "from sklearn.datasets import load_sample_image\n",
    "from google.colab.patches import cv2_imshow\n",
    "\n",
    "import numpy as np\n",
    "import cv2 as cv\n",
    "import matplotlib.pyplot as plt\n",
    "\n",
    "img_rgb = load_sample_image('flower.jpg')\n",
    "img_bgr = np.flip(img_rgb, axis=-1)\n",
    "cv2_imshow(img_bgr)"
   ]
  },
  {
   "cell_type": "code",
   "execution_count": 3,
   "metadata": {
    "colab": {
     "base_uri": "https://localhost:8080/",
     "height": 265
    },
    "executionInfo": {
     "elapsed": 681,
     "status": "ok",
     "timestamp": 1664352550663,
     "user": {
      "displayName": "Göksu Yamaç",
      "userId": "12418995879921261032"
     },
     "user_tz": -60
    },
    "id": "w1W89n5Y_mSQ",
    "outputId": "369e5148-e72b-409f-ace6-16125e95197f"
   },
   "outputs": [
    {
     "ename": "NameError",
     "evalue": "name 'plt' is not defined",
     "output_type": "error",
     "traceback": [
      "\u001b[0;31m---------------------------------------------------------------------------\u001b[0m",
      "\u001b[0;31mNameError\u001b[0m                                 Traceback (most recent call last)",
      "Cell \u001b[0;32mIn [3], line 1\u001b[0m\n\u001b[0;32m----> 1\u001b[0m \u001b[43mplt\u001b[49m\u001b[38;5;241m.\u001b[39mplot(b_hist, label \u001b[38;5;241m=\u001b[39m \u001b[38;5;124m'\u001b[39m\u001b[38;5;124mblue\u001b[39m\u001b[38;5;124m'\u001b[39m, color \u001b[38;5;241m=\u001b[39m \u001b[38;5;124m'\u001b[39m\u001b[38;5;124mblue\u001b[39m\u001b[38;5;124m'\u001b[39m)\n\u001b[1;32m      2\u001b[0m plt\u001b[38;5;241m.\u001b[39mplot(g_hist, label \u001b[38;5;241m=\u001b[39m \u001b[38;5;124m'\u001b[39m\u001b[38;5;124mgreen\u001b[39m\u001b[38;5;124m'\u001b[39m, color \u001b[38;5;241m=\u001b[39m \u001b[38;5;124m'\u001b[39m\u001b[38;5;124mgreen\u001b[39m\u001b[38;5;124m'\u001b[39m)\n\u001b[1;32m      3\u001b[0m plt\u001b[38;5;241m.\u001b[39mplot(r_hist, label \u001b[38;5;241m=\u001b[39m \u001b[38;5;124m'\u001b[39m\u001b[38;5;124mred\u001b[39m\u001b[38;5;124m'\u001b[39m, color \u001b[38;5;241m=\u001b[39m \u001b[38;5;124m'\u001b[39m\u001b[38;5;124mred\u001b[39m\u001b[38;5;124m'\u001b[39m)\n",
      "\u001b[0;31mNameError\u001b[0m: name 'plt' is not defined"
     ]
    }
   ],
   "source": [
    "plt.plot(b_hist, label = 'blue', color = 'blue')\n",
    "plt.plot(g_hist, label = 'green', color = 'green')\n",
    "plt.plot(r_hist, label = 'red', color = 'red')\n",
    "\n",
    "plt.legend()\n",
    "plt.show()"
   ]
  },
  {
   "cell_type": "code",
   "execution_count": 4,
   "metadata": {
    "colab": {
     "base_uri": "https://localhost:8080/",
     "height": 283
    },
    "executionInfo": {
     "elapsed": 440,
     "status": "ok",
     "timestamp": 1664352644279,
     "user": {
      "displayName": "Göksu Yamaç",
      "userId": "12418995879921261032"
     },
     "user_tz": -60
    },
    "id": "fjhmJ01gBUrW",
    "outputId": "73c64370-0817-4cc8-de88-c96c9cc6e87e"
   },
   "outputs": [
    {
     "ename": "NameError",
     "evalue": "name 'r_hist' is not defined",
     "output_type": "error",
     "traceback": [
      "\u001b[0;31m---------------------------------------------------------------------------\u001b[0m",
      "\u001b[0;31mNameError\u001b[0m                                 Traceback (most recent call last)",
      "Cell \u001b[0;32mIn [4], line 1\u001b[0m\n\u001b[0;32m----> 1\u001b[0m \u001b[38;5;28mprint\u001b[39m(\u001b[38;5;28mtype\u001b[39m(\u001b[43mr_hist\u001b[49m))\n\u001b[1;32m      3\u001b[0m r_hist[r_hist\u001b[38;5;241m>\u001b[39m\u001b[38;5;241m10000\u001b[39m] \u001b[38;5;241m=\u001b[39m \u001b[38;5;241m10000\u001b[39m\n\u001b[1;32m      5\u001b[0m plt\u001b[38;5;241m.\u001b[39mplot(b_hist, label \u001b[38;5;241m=\u001b[39m \u001b[38;5;124m'\u001b[39m\u001b[38;5;124mblue\u001b[39m\u001b[38;5;124m'\u001b[39m, color \u001b[38;5;241m=\u001b[39m \u001b[38;5;124m'\u001b[39m\u001b[38;5;124mblue\u001b[39m\u001b[38;5;124m'\u001b[39m)\n",
      "\u001b[0;31mNameError\u001b[0m: name 'r_hist' is not defined"
     ]
    }
   ],
   "source": [
    "print(type(r_hist))\n",
    "\n",
    "r_hist[r_hist>10000] = 10000\n",
    "\n",
    "plt.plot(b_hist, label = 'blue', color = 'blue')\n",
    "plt.plot(g_hist, label = 'green', color = 'green')\n",
    "plt.plot(r_hist, label = 'red', color = 'red')\n",
    "plt.legend()\n",
    "plt.show()"
   ]
  },
  {
   "cell_type": "code",
   "execution_count": 5,
   "metadata": {
    "id": "jNmhIP3SDCAR"
   },
   "outputs": [
    {
     "ename": "NameError",
     "evalue": "name 'img_bgr' is not defined",
     "output_type": "error",
     "traceback": [
      "\u001b[0;31m---------------------------------------------------------------------------\u001b[0m",
      "\u001b[0;31mNameError\u001b[0m                                 Traceback (most recent call last)",
      "Cell \u001b[0;32mIn [5], line 6\u001b[0m\n\u001b[1;32m      3\u001b[0m   new[:,:,idx] \u001b[38;5;241m=\u001b[39m img[:,:,idx]\n\u001b[1;32m      4\u001b[0m   \u001b[38;5;28;01mreturn\u001b[39;00m new\n\u001b[0;32m----> 6\u001b[0m img_onlyR \u001b[38;5;241m=\u001b[39m ConvertToSingleChannel(\u001b[43mimg_bgr\u001b[49m, \u001b[38;5;241m2\u001b[39m)\n\u001b[1;32m      7\u001b[0m img_onlyB \u001b[38;5;241m=\u001b[39m ConvertToSingleChannel(img_bgr, \u001b[38;5;241m0\u001b[39m)\n\u001b[1;32m      8\u001b[0m img_onlyG \u001b[38;5;241m=\u001b[39m ConvertToSingleChannel(img_bgr, \u001b[38;5;241m1\u001b[39m)\n",
      "\u001b[0;31mNameError\u001b[0m: name 'img_bgr' is not defined"
     ]
    }
   ],
   "source": [
    "def ConvertToSingleChannel(img, idx):\n",
    "  new = np.zeros_like(img)\n",
    "  new[:,:,idx] = img[:,:,idx]\n",
    "  return new\n",
    "\n",
    "img_onlyR = ConvertToSingleChannel(img_bgr, 2)\n",
    "img_onlyB = ConvertToSingleChannel(img_bgr, 0)\n",
    "img_onlyG = ConvertToSingleChannel(img_bgr, 1)\n",
    "\n",
    "cv2_imshow(img_onlyB)\n",
    "cv2_imshow(img_onlyG)\n",
    "cv2_imshow(img_onlyR)"
   ]
  },
  {
   "cell_type": "code",
   "execution_count": null,
   "metadata": {
    "executionInfo": {
     "elapsed": 759,
     "status": "ok",
     "timestamp": 1664352531545,
     "user": {
      "displayName": "Göksu Yamaç",
      "userId": "12418995879921261032"
     },
     "user_tz": -60
    },
    "id": "fCMdGu6o9jW9"
   },
   "outputs": [],
   "source": [
    "tuple_bgr = cv.split(img_bgr)\n",
    "\n",
    "histSize = 256    # number of bins\n",
    "histRange = (0, 256)\n",
    "\n",
    "b_hist = cv.calcHist(tuple_bgr, [0], None, [histSize], histRange, accumulate=False)\n",
    "g_hist = cv.calcHist(tuple_bgr, [1], None, [histSize], histRange, accumulate=False)\n",
    "r_hist = cv.calcHist(tuple_bgr, [2], None, [histSize], histRange, accumulate=False)"
   ]
  },
  {
   "cell_type": "code",
   "execution_count": null,
   "metadata": {
    "id": "BjLnhJalGMXR"
   },
   "outputs": [],
   "source": [
    "img_onlyR[img_onlyR<100] = 0    # Setting a threshold to segment the flower\n",
    "\n",
    "cv2_imshow(img_onlyR)\n",
    "\n",
    "np.where(img_onlyR[:,:,2])"
   ]
  },
  {
   "cell_type": "code",
   "execution_count": null,
   "metadata": {
    "id": "BNbOVMRQHNfx"
   },
   "outputs": [],
   "source": [
    "zero_idx = np.where(img_onlyR[:,:,2] == 0)    # Returns the indices of zero values"
   ]
  },
  {
   "cell_type": "code",
   "execution_count": null,
   "metadata": {
    "id": "YOfGkRb8N1bx"
   },
   "outputs": [],
   "source": [
    "# Combining RGB channels for the Red flower\n",
    "\n",
    "img_onlyB[zero_idx[0], zero_idx[1], 0] = 0   # Makes the same indices zero in B channel\n",
    "img_onlyG[zero_idx[0], zero_idx[1], 1] = 0\n",
    "\n",
    "img_segmented_BGR = img_onlyR+img_onlyB+img_onlyG   # Since they all have one different non-zero channel, we can add them together.\n",
    "cv2_imshow(img_segmented_BGR)"
   ]
  },
  {
   "cell_type": "code",
   "execution_count": null,
   "metadata": {
    "id": "1Pq9nF5YlZI-"
   },
   "outputs": [],
   "source": [
    "img_gray = cv.cvtColor(img_segmented_BGR, cv.COLOR_BGR2GRAY)\n",
    "_, img_thresh = cv.threshold(img_gray, 30, 255, 0)    # (Source image, threshold, mapped value (if >threshold), threshold_mode)\n",
    "cv2_imshow(img_thresh)"
   ]
  },
  {
   "cell_type": "code",
   "execution_count": null,
   "metadata": {
    "id": "2BIiAdLJ7IUB"
   },
   "outputs": [],
   "source": [
    "contours, hierarchy = cv.findContours(img_thresh, cv.RETR_TREE, cv.CHAIN_APPROX_NONE )   # Automatically locates contours - an outline or a bounding shape"
   ]
  },
  {
   "cell_type": "code",
   "execution_count": null,
   "metadata": {
    "id": "lbGJeIcLltYd"
   },
   "outputs": [],
   "source": [
    "canvas = np.zeros(img_segmented_BGR.shape)\n",
    "cv.drawContours(canvas, contours, -1, (0,255,0), 1)   # -1 to draw all contours\n",
    "cv2_imshow(canvas)"
   ]
  },
  {
   "cell_type": "code",
   "execution_count": null,
   "metadata": {
    "id": "QeiuKKk0xxiG"
   },
   "outputs": [],
   "source": [
    "# How to locate the contour around the flower?\n",
    "\n",
    "# We will use 'hierarchy'\n",
    "# [Next, Previous, First_Child, Parent]\n",
    "# https://docs.opencv.org/4.x/d9/d8b/tutorial_py_contours_hierarchy.html\n",
    "\n",
    "# If Parent = -1, it is the top of the hierarchy. If Child = -1, it is the bottom of the hierarchy.\n",
    "# Next and Previous refer to the other contours on the same hierarchical level\n",
    "print(hierarchy.shape)\n",
    "hierarchy = np.squeeze(hierarchy)\n",
    "print(hierarchy)\n",
    "\n"
   ]
  },
  {
   "cell_type": "code",
   "execution_count": null,
   "metadata": {
    "id": "-dnf0a5uyLIv"
   },
   "outputs": [],
   "source": [
    "top = hierarchy[hierarchy[:,3] == -1]\n",
    "print(top)"
   ]
  },
  {
   "cell_type": "code",
   "execution_count": null,
   "metadata": {
    "id": "G2nFp-iCBzQo"
   },
   "outputs": [],
   "source": [
    "hierarchy[7,:]    # How do we know? It has many children\n",
    "\n",
    "mask = np.zeros(img_gray.shape, np.uint8)\n",
    "cv.drawContours(mask, contours[7], -1, (255,255,255),1)\n",
    "cv2_imshow(mask)"
   ]
  },
  {
   "cell_type": "code",
   "execution_count": null,
   "metadata": {
    "id": "MixC3V27gIfn"
   },
   "outputs": [],
   "source": [
    "# Get the area inside\n",
    "\n",
    "area_inside = np.empty(img_gray.shape, dtype=np.int8)\n",
    "for i in range(img_gray.shape[0]):\n",
    "    for j in range(img_gray.shape[1]):\n",
    "        area_inside[i,j] = cv.pointPolygonTest(contours[7], (j,i), measureDist=False)      # Determines whether the point is inside a contour, outside, or lies on an edge\n",
    "\n",
    "area_inside[area_inside == -1] = 0    # Get rid of -1 values\n",
    "gray_inside = area_inside * 255"
   ]
  },
  {
   "cell_type": "code",
   "execution_count": null,
   "metadata": {
    "id": "TYg9rNkJgRDM"
   },
   "outputs": [],
   "source": [
    "x,y = np.where(area_inside == 0)\n",
    "img_segmented_BGR[x,y,:] = 0\n",
    "cv2_imshow(img_segmented_BGR)"
   ]
  },
  {
   "cell_type": "code",
   "execution_count": null,
   "metadata": {
    "id": "sCjauPStQPPi"
   },
   "outputs": [],
   "source": [
    "# HSV Color Model\n",
    "\n",
    "img_hsv = cv.cvtColor(img_bgr, cv.COLOR_BGR2HSV)\n",
    "h,s,v = cv.split(img_hsv)"
   ]
  },
  {
   "cell_type": "code",
   "execution_count": null,
   "metadata": {
    "id": "QRuaTDF3yFh1"
   },
   "outputs": [],
   "source": [
    "cv2_imshow(h)\n",
    "cv2_imshow(s)\n",
    "cv2_imshow(v)"
   ]
  },
  {
   "cell_type": "code",
   "execution_count": null,
   "metadata": {
    "id": "X9LJjLw3N6tw"
   },
   "outputs": [],
   "source": [
    "# Hue\n",
    "h,s,v = cv.split(img_hsv)\n",
    "\n",
    "for i in range(5):\n",
    "  h = h.astype(int)   # Originally, type is uint8 - only takes values (0,255)\n",
    "  h = np.clip(h+i*40, 0, 180)\n",
    "  h = h.astype('uint8') \n",
    "  img_hsv_saturated = cv.merge((h,s,v))\n",
    "  img_bgr_saturated = cv.cvtColor(img_hsv_saturated, cv.COLOR_HSV2BGR)\n",
    "  cv2_imshow(img_bgr_saturated)"
   ]
  },
  {
   "cell_type": "code",
   "execution_count": null,
   "metadata": {
    "id": "jxAlM1ZsG9Al"
   },
   "outputs": [],
   "source": [
    "# Saturation\n",
    "h,s,v = cv.split(img_hsv)\n",
    "\n",
    "for i in range(5):\n",
    "  s = s.astype(int)   # Originally, type is uint8 - only takes values (0,255)\n",
    "  s = np.clip(s+i*50, 0, 255)\n",
    "  s = s.astype('uint8') \n",
    "  img_hsv_saturated = cv.merge((h,s,v))\n",
    "  img_bgr_saturated = cv.cvtColor(img_hsv_saturated, cv.COLOR_HSV2BGR)\n",
    "  cv2_imshow(img_bgr_saturated)"
   ]
  },
  {
   "cell_type": "code",
   "execution_count": null,
   "metadata": {
    "id": "UDtkCzKRIZM8"
   },
   "outputs": [],
   "source": [
    "# Saturation\n",
    "h,s,v = cv.split(img_hsv)\n",
    "\n",
    "for i in range(5):\n",
    "  v = v.astype(int)   # Originally, type is uint8 - only takes values (0,255)\n",
    "  v = np.clip(v-i*50, 0, 255)\n",
    "  v = v.astype('uint8') \n",
    "  img_hsv_saturated = cv.merge((h,s,v))\n",
    "  img_bgr_saturated = cv.cvtColor(img_hsv_saturated, cv.COLOR_HSV2BGR)\n",
    "  cv2_imshow(img_bgr_saturated)"
   ]
  },
  {
   "cell_type": "code",
   "execution_count": null,
   "metadata": {
    "id": "OO0kopoZka4x"
   },
   "outputs": [],
   "source": [
    "# LAB Color Model\n",
    "\n",
    "img_lab = cv.cvtColor(img_bgr, cv.COLOR_BGR2Lab)\n",
    "l,a,b = cv.split(img_lab)"
   ]
  },
  {
   "cell_type": "code",
   "execution_count": null,
   "metadata": {
    "id": "I8efek_HzK8w"
   },
   "outputs": [],
   "source": [
    "cv2_imshow(l)\n",
    "cv2_imshow(a)\n",
    "cv2_imshow(b)"
   ]
  },
  {
   "cell_type": "code",
   "execution_count": null,
   "metadata": {
    "id": "tvVGgpcM1RSL"
   },
   "outputs": [],
   "source": [
    "img_onlyL = ConvertToSingleChannel(img_lab, 0)\n",
    "img_onlyA = ConvertToSingleChannel(img_lab, 1)\n",
    "img_onlyB = ConvertToSingleChannel(img_lab, 2)\n",
    "\n",
    "print(img_onlyB.shape)\n",
    "\n",
    "cv2_imshow(cv.cvtColor(img_onlyL, cv.COLOR_Lab2BGR))\n",
    "cv2_imshow(cv.cvtColor(img_onlyA, cv.COLOR_Lab2BGR))\n",
    "cv2_imshow(cv.cvtColor(img_onlyB, cv.COLOR_Lab2BGR))"
   ]
  },
  {
   "cell_type": "markdown",
   "metadata": {
    "id": "4AEKddaq8tqy"
   },
   "source": [
    "# Intro to Filters\n",
    "\n",
    "The theory will be covered in detail in class starting next week.\n",
    "\n",
    "Post that shows how kernel multiplication works: https://medium.com/analytics-vidhya/understanding-convolution-operations-in-cnn-1914045816d4\n",
    "\n"
   ]
  },
  {
   "cell_type": "code",
   "execution_count": null,
   "metadata": {
    "id": "LVjaDaS78tKs"
   },
   "outputs": [],
   "source": [
    "# Averaging filter\n",
    "\n",
    "kernel = np.ones((5,5),np.float32)/25\n",
    "dst = cv.filter2D(img_bgr,-1,kernel)\n",
    "\n",
    "cv2_imshow(img_bgr)\n",
    "cv2_imshow(dst)"
   ]
  },
  {
   "cell_type": "code",
   "execution_count": null,
   "metadata": {
    "id": "r7YXB3kayySd"
   },
   "outputs": [],
   "source": [
    "# Gaussian filter\n",
    "\n",
    "print(cv.getGaussianKernel(5, sigma = 1))  # Returns coefficients in 1D\n",
    "\n",
    "blur = cv.GaussianBlur(img_bgr,(5,5),0)\n",
    "cv2_imshow(blur)"
   ]
  },
  {
   "cell_type": "code",
   "execution_count": null,
   "metadata": {
    "id": "tCIOLTsX4Fpo"
   },
   "outputs": [],
   "source": [
    "# Apply this to Gaussian filter in the lab\n",
    "\n",
    "# How to get 2D kernel - https://stackoverflow.com/questions/61394826/how-do-i-get-to-show-gaussian-kernel-for-2d-opencv#:~:text=To%20see%20the%20full%202D,invariant%20functions%20(%3D%3Dconvolution%20filters).\n",
    "\n",
    "img=np.zeros((7,7))\n",
    "img[3,3]=1\n",
    "img\n",
    "\n",
    "kernel = np.ones((5,5),np.float32)/25\n",
    "dst = cv.filter2D(img,-1,kernel)\n",
    "dst"
   ]
  }
 ],
 "metadata": {
  "colab": {
   "authorship_tag": "ABX9TyNm2qui3gn/6KgRfWk1hNOq",
   "collapsed_sections": [],
   "provenance": []
  },
  "kernelspec": {
   "display_name": "Python 3 (ipykernel)",
   "language": "python",
   "name": "python3"
  },
  "language_info": {
   "codemirror_mode": {
    "name": "ipython",
    "version": 3
   },
   "file_extension": ".py",
   "mimetype": "text/x-python",
   "name": "python",
   "nbconvert_exporter": "python",
   "pygments_lexer": "ipython3",
   "version": "3.9.12"
  },
  "vscode": {
   "interpreter": {
    "hash": "7c5e753475599814e485c5d69e6c4951f01b13ebfdb9427460380f3b5e84f8ee"
   }
  }
 },
 "nbformat": 4,
 "nbformat_minor": 1
}
